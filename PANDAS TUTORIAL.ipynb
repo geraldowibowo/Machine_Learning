{
 "cells": [
  {
   "cell_type": "code",
   "execution_count": 2,
   "metadata": {},
   "outputs": [],
   "source": [
    "import pandas as pd\n",
    "import numpy as np\n",
    "import matplotlib.pyplot as plt"
   ]
  },
  {
   "cell_type": "code",
   "execution_count": 9,
   "metadata": {},
   "outputs": [
    {
     "data": {
      "text/html": [
       "<div>\n",
       "<style scoped>\n",
       "    .dataframe tbody tr th:only-of-type {\n",
       "        vertical-align: middle;\n",
       "    }\n",
       "\n",
       "    .dataframe tbody tr th {\n",
       "        vertical-align: top;\n",
       "    }\n",
       "\n",
       "    .dataframe thead th {\n",
       "        text-align: right;\n",
       "    }\n",
       "</style>\n",
       "<table border=\"1\" class=\"dataframe\">\n",
       "  <thead>\n",
       "    <tr style=\"text-align: right;\">\n",
       "      <th></th>\n",
       "      <th>A</th>\n",
       "      <th>B</th>\n",
       "      <th>C</th>\n",
       "      <th>D</th>\n",
       "    </tr>\n",
       "  </thead>\n",
       "  <tbody>\n",
       "    <tr>\n",
       "      <th>0</th>\n",
       "      <td>0.431342</td>\n",
       "      <td>0.839705</td>\n",
       "      <td>0.190764</td>\n",
       "      <td>0.577095</td>\n",
       "    </tr>\n",
       "    <tr>\n",
       "      <th>1</th>\n",
       "      <td>0.178177</td>\n",
       "      <td>0.143467</td>\n",
       "      <td>0.533088</td>\n",
       "      <td>0.852694</td>\n",
       "    </tr>\n",
       "    <tr>\n",
       "      <th>2</th>\n",
       "      <td>0.602483</td>\n",
       "      <td>0.793455</td>\n",
       "      <td>0.029708</td>\n",
       "      <td>0.896726</td>\n",
       "    </tr>\n",
       "    <tr>\n",
       "      <th>3</th>\n",
       "      <td>0.116848</td>\n",
       "      <td>0.118492</td>\n",
       "      <td>0.293472</td>\n",
       "      <td>0.739582</td>\n",
       "    </tr>\n",
       "    <tr>\n",
       "      <th>4</th>\n",
       "      <td>0.334276</td>\n",
       "      <td>0.638571</td>\n",
       "      <td>0.030365</td>\n",
       "      <td>0.573690</td>\n",
       "    </tr>\n",
       "    <tr>\n",
       "      <th>5</th>\n",
       "      <td>0.116508</td>\n",
       "      <td>0.342601</td>\n",
       "      <td>0.137179</td>\n",
       "      <td>0.041785</td>\n",
       "    </tr>\n",
       "    <tr>\n",
       "      <th>6</th>\n",
       "      <td>0.281401</td>\n",
       "      <td>0.000517</td>\n",
       "      <td>0.029195</td>\n",
       "      <td>0.733208</td>\n",
       "    </tr>\n",
       "    <tr>\n",
       "      <th>7</th>\n",
       "      <td>0.634052</td>\n",
       "      <td>0.283055</td>\n",
       "      <td>0.679461</td>\n",
       "      <td>0.663663</td>\n",
       "    </tr>\n",
       "    <tr>\n",
       "      <th>8</th>\n",
       "      <td>0.594373</td>\n",
       "      <td>0.122516</td>\n",
       "      <td>0.697170</td>\n",
       "      <td>0.508097</td>\n",
       "    </tr>\n",
       "    <tr>\n",
       "      <th>9</th>\n",
       "      <td>0.755233</td>\n",
       "      <td>0.249606</td>\n",
       "      <td>0.225544</td>\n",
       "      <td>0.478347</td>\n",
       "    </tr>\n",
       "  </tbody>\n",
       "</table>\n",
       "</div>"
      ],
      "text/plain": [
       "          A         B         C         D\n",
       "0  0.431342  0.839705  0.190764  0.577095\n",
       "1  0.178177  0.143467  0.533088  0.852694\n",
       "2  0.602483  0.793455  0.029708  0.896726\n",
       "3  0.116848  0.118492  0.293472  0.739582\n",
       "4  0.334276  0.638571  0.030365  0.573690\n",
       "5  0.116508  0.342601  0.137179  0.041785\n",
       "6  0.281401  0.000517  0.029195  0.733208\n",
       "7  0.634052  0.283055  0.679461  0.663663\n",
       "8  0.594373  0.122516  0.697170  0.508097\n",
       "9  0.755233  0.249606  0.225544  0.478347"
      ]
     },
     "execution_count": 9,
     "metadata": {},
     "output_type": "execute_result"
    }
   ],
   "source": [
    "#creating a dataframe\n",
    "df=pd.DataFrame(np.random.rand(10,4),columns=['A','B','C','D'])\n",
    "df"
   ]
  },
  {
   "cell_type": "code",
   "execution_count": 17,
   "metadata": {},
   "outputs": [
    {
     "data": {
      "text/html": [
       "<div>\n",
       "<style scoped>\n",
       "    .dataframe tbody tr th:only-of-type {\n",
       "        vertical-align: middle;\n",
       "    }\n",
       "\n",
       "    .dataframe tbody tr th {\n",
       "        vertical-align: top;\n",
       "    }\n",
       "\n",
       "    .dataframe thead th {\n",
       "        text-align: right;\n",
       "    }\n",
       "</style>\n",
       "<table border=\"1\" class=\"dataframe\">\n",
       "  <thead>\n",
       "    <tr style=\"text-align: right;\">\n",
       "      <th></th>\n",
       "      <th>A</th>\n",
       "      <th>B</th>\n",
       "      <th>C</th>\n",
       "      <th>D</th>\n",
       "    </tr>\n",
       "  </thead>\n",
       "  <tbody>\n",
       "    <tr>\n",
       "      <th>0</th>\n",
       "      <td>10</td>\n",
       "      <td>20</td>\n",
       "      <td>30</td>\n",
       "      <td>40</td>\n",
       "    </tr>\n",
       "    <tr>\n",
       "      <th>1</th>\n",
       "      <td>20</td>\n",
       "      <td>100</td>\n",
       "      <td>40</td>\n",
       "      <td>50</td>\n",
       "    </tr>\n",
       "  </tbody>\n",
       "</table>\n",
       "</div>"
      ],
      "text/plain": [
       "    A    B   C   D\n",
       "0  10   20  30  40\n",
       "1  20  100  40  50"
      ]
     },
     "execution_count": 17,
     "metadata": {},
     "output_type": "execute_result"
    }
   ],
   "source": [
    "#creating a dataframe with dictionary\n",
    "df2 = pd.DataFrame({'A' : [10,20],'B' : [20,100],'C' : [30,40],'D' : [40,50]})\n",
    "df2"
   ]
  },
  {
   "cell_type": "code",
   "execution_count": 19,
   "metadata": {},
   "outputs": [
    {
     "data": {
      "text/plain": [
       "Index(['A', 'B', 'C', 'D'], dtype='object')"
      ]
     },
     "execution_count": 19,
     "metadata": {},
     "output_type": "execute_result"
    }
   ],
   "source": [
    "df2.columns"
   ]
  },
  {
   "cell_type": "code",
   "execution_count": 22,
   "metadata": {},
   "outputs": [
    {
     "data": {
      "text/plain": [
       "A    int64\n",
       "B    int64\n",
       "C    int64\n",
       "D    int64\n",
       "dtype: object"
      ]
     },
     "execution_count": 22,
     "metadata": {},
     "output_type": "execute_result"
    }
   ],
   "source": [
    "df2.dtypes"
   ]
  },
  {
   "cell_type": "code",
   "execution_count": 25,
   "metadata": {},
   "outputs": [
    {
     "data": {
      "text/plain": [
       "array([[ 10,  20,  30,  40],\n",
       "       [ 20, 100,  40,  50]], dtype=int64)"
      ]
     },
     "execution_count": 25,
     "metadata": {},
     "output_type": "execute_result"
    }
   ],
   "source": [
    "#converting data in arrays\n",
    "df2.values"
   ]
  },
  {
   "cell_type": "code",
   "execution_count": 39,
   "metadata": {},
   "outputs": [
    {
     "data": {
      "text/html": [
       "<div>\n",
       "<style scoped>\n",
       "    .dataframe tbody tr th:only-of-type {\n",
       "        vertical-align: middle;\n",
       "    }\n",
       "\n",
       "    .dataframe tbody tr th {\n",
       "        vertical-align: top;\n",
       "    }\n",
       "\n",
       "    .dataframe thead th {\n",
       "        text-align: right;\n",
       "    }\n",
       "</style>\n",
       "<table border=\"1\" class=\"dataframe\">\n",
       "  <thead>\n",
       "    <tr style=\"text-align: right;\">\n",
       "      <th></th>\n",
       "      <th>A</th>\n",
       "      <th>B</th>\n",
       "      <th>C</th>\n",
       "      <th>D</th>\n",
       "    </tr>\n",
       "  </thead>\n",
       "  <tbody>\n",
       "    <tr>\n",
       "      <th>0</th>\n",
       "      <td>0.431342</td>\n",
       "      <td>0.839705</td>\n",
       "      <td>0.190764</td>\n",
       "      <td>0.577095</td>\n",
       "    </tr>\n",
       "    <tr>\n",
       "      <th>1</th>\n",
       "      <td>0.178177</td>\n",
       "      <td>0.143467</td>\n",
       "      <td>0.533088</td>\n",
       "      <td>0.852694</td>\n",
       "    </tr>\n",
       "    <tr>\n",
       "      <th>2</th>\n",
       "      <td>0.602483</td>\n",
       "      <td>0.793455</td>\n",
       "      <td>0.029708</td>\n",
       "      <td>0.896726</td>\n",
       "    </tr>\n",
       "    <tr>\n",
       "      <th>3</th>\n",
       "      <td>0.116848</td>\n",
       "      <td>0.118492</td>\n",
       "      <td>0.293472</td>\n",
       "      <td>0.739582</td>\n",
       "    </tr>\n",
       "    <tr>\n",
       "      <th>4</th>\n",
       "      <td>0.334276</td>\n",
       "      <td>0.638571</td>\n",
       "      <td>0.030365</td>\n",
       "      <td>0.573690</td>\n",
       "    </tr>\n",
       "    <tr>\n",
       "      <th>5</th>\n",
       "      <td>0.116508</td>\n",
       "      <td>0.342601</td>\n",
       "      <td>0.137179</td>\n",
       "      <td>0.041785</td>\n",
       "    </tr>\n",
       "    <tr>\n",
       "      <th>6</th>\n",
       "      <td>0.281401</td>\n",
       "      <td>0.000517</td>\n",
       "      <td>0.029195</td>\n",
       "      <td>0.733208</td>\n",
       "    </tr>\n",
       "    <tr>\n",
       "      <th>7</th>\n",
       "      <td>0.634052</td>\n",
       "      <td>0.283055</td>\n",
       "      <td>0.679461</td>\n",
       "      <td>0.663663</td>\n",
       "    </tr>\n",
       "    <tr>\n",
       "      <th>8</th>\n",
       "      <td>0.594373</td>\n",
       "      <td>0.122516</td>\n",
       "      <td>0.697170</td>\n",
       "      <td>0.508097</td>\n",
       "    </tr>\n",
       "    <tr>\n",
       "      <th>9</th>\n",
       "      <td>0.755233</td>\n",
       "      <td>0.249606</td>\n",
       "      <td>0.225544</td>\n",
       "      <td>0.478347</td>\n",
       "    </tr>\n",
       "  </tbody>\n",
       "</table>\n",
       "</div>"
      ],
      "text/plain": [
       "          A         B         C         D\n",
       "0  0.431342  0.839705  0.190764  0.577095\n",
       "1  0.178177  0.143467  0.533088  0.852694\n",
       "2  0.602483  0.793455  0.029708  0.896726\n",
       "3  0.116848  0.118492  0.293472  0.739582\n",
       "4  0.334276  0.638571  0.030365  0.573690\n",
       "5  0.116508  0.342601  0.137179  0.041785\n",
       "6  0.281401  0.000517  0.029195  0.733208\n",
       "7  0.634052  0.283055  0.679461  0.663663\n",
       "8  0.594373  0.122516  0.697170  0.508097\n",
       "9  0.755233  0.249606  0.225544  0.478347"
      ]
     },
     "execution_count": 39,
     "metadata": {},
     "output_type": "execute_result"
    }
   ],
   "source": [
    "#return the first top five rows\n",
    "df.head(10)"
   ]
  },
  {
   "cell_type": "code",
   "execution_count": 29,
   "metadata": {},
   "outputs": [
    {
     "data": {
      "text/html": [
       "<div>\n",
       "<style scoped>\n",
       "    .dataframe tbody tr th:only-of-type {\n",
       "        vertical-align: middle;\n",
       "    }\n",
       "\n",
       "    .dataframe tbody tr th {\n",
       "        vertical-align: top;\n",
       "    }\n",
       "\n",
       "    .dataframe thead th {\n",
       "        text-align: right;\n",
       "    }\n",
       "</style>\n",
       "<table border=\"1\" class=\"dataframe\">\n",
       "  <thead>\n",
       "    <tr style=\"text-align: right;\">\n",
       "      <th></th>\n",
       "      <th>A</th>\n",
       "      <th>B</th>\n",
       "      <th>C</th>\n",
       "      <th>D</th>\n",
       "    </tr>\n",
       "  </thead>\n",
       "  <tbody>\n",
       "    <tr>\n",
       "      <th>5</th>\n",
       "      <td>0.116508</td>\n",
       "      <td>0.342601</td>\n",
       "      <td>0.137179</td>\n",
       "      <td>0.041785</td>\n",
       "    </tr>\n",
       "    <tr>\n",
       "      <th>6</th>\n",
       "      <td>0.281401</td>\n",
       "      <td>0.000517</td>\n",
       "      <td>0.029195</td>\n",
       "      <td>0.733208</td>\n",
       "    </tr>\n",
       "    <tr>\n",
       "      <th>7</th>\n",
       "      <td>0.634052</td>\n",
       "      <td>0.283055</td>\n",
       "      <td>0.679461</td>\n",
       "      <td>0.663663</td>\n",
       "    </tr>\n",
       "    <tr>\n",
       "      <th>8</th>\n",
       "      <td>0.594373</td>\n",
       "      <td>0.122516</td>\n",
       "      <td>0.697170</td>\n",
       "      <td>0.508097</td>\n",
       "    </tr>\n",
       "    <tr>\n",
       "      <th>9</th>\n",
       "      <td>0.755233</td>\n",
       "      <td>0.249606</td>\n",
       "      <td>0.225544</td>\n",
       "      <td>0.478347</td>\n",
       "    </tr>\n",
       "  </tbody>\n",
       "</table>\n",
       "</div>"
      ],
      "text/plain": [
       "          A         B         C         D\n",
       "5  0.116508  0.342601  0.137179  0.041785\n",
       "6  0.281401  0.000517  0.029195  0.733208\n",
       "7  0.634052  0.283055  0.679461  0.663663\n",
       "8  0.594373  0.122516  0.697170  0.508097\n",
       "9  0.755233  0.249606  0.225544  0.478347"
      ]
     },
     "execution_count": 29,
     "metadata": {},
     "output_type": "execute_result"
    }
   ],
   "source": [
    "#looking at the last few values\n",
    "df.tail()"
   ]
  },
  {
   "cell_type": "code",
   "execution_count": 31,
   "metadata": {},
   "outputs": [
    {
     "data": {
      "text/plain": [
       "RangeIndex(start=0, stop=10, step=1)"
      ]
     },
     "execution_count": 31,
     "metadata": {},
     "output_type": "execute_result"
    }
   ],
   "source": [
    "#to get the indexes\n",
    "df.index"
   ]
  },
  {
   "cell_type": "code",
   "execution_count": 33,
   "metadata": {},
   "outputs": [
    {
     "data": {
      "text/plain": [
       "Index(['A', 'B', 'C', 'D'], dtype='object')"
      ]
     },
     "execution_count": 33,
     "metadata": {},
     "output_type": "execute_result"
    }
   ],
   "source": [
    "\n",
    "#to get the column names\n",
    "df.columns"
   ]
  },
  {
   "cell_type": "code",
   "execution_count": 36,
   "metadata": {},
   "outputs": [
    {
     "data": {
      "text/html": [
       "<div>\n",
       "<style scoped>\n",
       "    .dataframe tbody tr th:only-of-type {\n",
       "        vertical-align: middle;\n",
       "    }\n",
       "\n",
       "    .dataframe tbody tr th {\n",
       "        vertical-align: top;\n",
       "    }\n",
       "\n",
       "    .dataframe thead th {\n",
       "        text-align: right;\n",
       "    }\n",
       "</style>\n",
       "<table border=\"1\" class=\"dataframe\">\n",
       "  <thead>\n",
       "    <tr style=\"text-align: right;\">\n",
       "      <th></th>\n",
       "      <th>A</th>\n",
       "      <th>B</th>\n",
       "      <th>C</th>\n",
       "      <th>D</th>\n",
       "    </tr>\n",
       "  </thead>\n",
       "  <tbody>\n",
       "    <tr>\n",
       "      <th>count</th>\n",
       "      <td>10.000000</td>\n",
       "      <td>10.000000</td>\n",
       "      <td>10.000000</td>\n",
       "      <td>10.000000</td>\n",
       "    </tr>\n",
       "    <tr>\n",
       "      <th>mean</th>\n",
       "      <td>0.404469</td>\n",
       "      <td>0.353198</td>\n",
       "      <td>0.284594</td>\n",
       "      <td>0.606489</td>\n",
       "    </tr>\n",
       "    <tr>\n",
       "      <th>std</th>\n",
       "      <td>0.233016</td>\n",
       "      <td>0.298959</td>\n",
       "      <td>0.261792</td>\n",
       "      <td>0.242401</td>\n",
       "    </tr>\n",
       "    <tr>\n",
       "      <th>min</th>\n",
       "      <td>0.116508</td>\n",
       "      <td>0.000517</td>\n",
       "      <td>0.029195</td>\n",
       "      <td>0.041785</td>\n",
       "    </tr>\n",
       "    <tr>\n",
       "      <th>25%</th>\n",
       "      <td>0.203983</td>\n",
       "      <td>0.127754</td>\n",
       "      <td>0.057069</td>\n",
       "      <td>0.524495</td>\n",
       "    </tr>\n",
       "    <tr>\n",
       "      <th>50%</th>\n",
       "      <td>0.382809</td>\n",
       "      <td>0.266331</td>\n",
       "      <td>0.208154</td>\n",
       "      <td>0.620379</td>\n",
       "    </tr>\n",
       "    <tr>\n",
       "      <th>75%</th>\n",
       "      <td>0.600456</td>\n",
       "      <td>0.564579</td>\n",
       "      <td>0.473184</td>\n",
       "      <td>0.737989</td>\n",
       "    </tr>\n",
       "    <tr>\n",
       "      <th>max</th>\n",
       "      <td>0.755233</td>\n",
       "      <td>0.839705</td>\n",
       "      <td>0.697170</td>\n",
       "      <td>0.896726</td>\n",
       "    </tr>\n",
       "  </tbody>\n",
       "</table>\n",
       "</div>"
      ],
      "text/plain": [
       "               A          B          C          D\n",
       "count  10.000000  10.000000  10.000000  10.000000\n",
       "mean    0.404469   0.353198   0.284594   0.606489\n",
       "std     0.233016   0.298959   0.261792   0.242401\n",
       "min     0.116508   0.000517   0.029195   0.041785\n",
       "25%     0.203983   0.127754   0.057069   0.524495\n",
       "50%     0.382809   0.266331   0.208154   0.620379\n",
       "75%     0.600456   0.564579   0.473184   0.737989\n",
       "max     0.755233   0.839705   0.697170   0.896726"
      ]
     },
     "execution_count": 36,
     "metadata": {},
     "output_type": "execute_result"
    }
   ],
   "source": [
    "\n",
    "#to get quick statistics about the data\n",
    "df.describe()"
   ]
  },
  {
   "cell_type": "code",
   "execution_count": 45,
   "metadata": {},
   "outputs": [
    {
     "data": {
      "text/html": [
       "<div>\n",
       "<style scoped>\n",
       "    .dataframe tbody tr th:only-of-type {\n",
       "        vertical-align: middle;\n",
       "    }\n",
       "\n",
       "    .dataframe tbody tr th {\n",
       "        vertical-align: top;\n",
       "    }\n",
       "\n",
       "    .dataframe thead th {\n",
       "        text-align: right;\n",
       "    }\n",
       "</style>\n",
       "<table border=\"1\" class=\"dataframe\">\n",
       "  <thead>\n",
       "    <tr style=\"text-align: right;\">\n",
       "      <th></th>\n",
       "      <th>A</th>\n",
       "      <th>B</th>\n",
       "      <th>C</th>\n",
       "      <th>D</th>\n",
       "    </tr>\n",
       "  </thead>\n",
       "  <tbody>\n",
       "    <tr>\n",
       "      <th>0</th>\n",
       "      <td>0.431342</td>\n",
       "      <td>0.839705</td>\n",
       "      <td>0.190764</td>\n",
       "      <td>0.577095</td>\n",
       "    </tr>\n",
       "    <tr>\n",
       "      <th>1</th>\n",
       "      <td>0.178177</td>\n",
       "      <td>0.143467</td>\n",
       "      <td>0.533088</td>\n",
       "      <td>0.852694</td>\n",
       "    </tr>\n",
       "    <tr>\n",
       "      <th>2</th>\n",
       "      <td>0.602483</td>\n",
       "      <td>0.793455</td>\n",
       "      <td>0.029708</td>\n",
       "      <td>0.896726</td>\n",
       "    </tr>\n",
       "    <tr>\n",
       "      <th>3</th>\n",
       "      <td>0.116848</td>\n",
       "      <td>0.118492</td>\n",
       "      <td>0.293472</td>\n",
       "      <td>0.739582</td>\n",
       "    </tr>\n",
       "    <tr>\n",
       "      <th>4</th>\n",
       "      <td>0.334276</td>\n",
       "      <td>0.638571</td>\n",
       "      <td>0.030365</td>\n",
       "      <td>0.573690</td>\n",
       "    </tr>\n",
       "    <tr>\n",
       "      <th>5</th>\n",
       "      <td>0.116508</td>\n",
       "      <td>0.342601</td>\n",
       "      <td>0.137179</td>\n",
       "      <td>0.041785</td>\n",
       "    </tr>\n",
       "    <tr>\n",
       "      <th>6</th>\n",
       "      <td>0.281401</td>\n",
       "      <td>0.000517</td>\n",
       "      <td>0.029195</td>\n",
       "      <td>0.733208</td>\n",
       "    </tr>\n",
       "    <tr>\n",
       "      <th>7</th>\n",
       "      <td>0.634052</td>\n",
       "      <td>0.283055</td>\n",
       "      <td>0.679461</td>\n",
       "      <td>0.663663</td>\n",
       "    </tr>\n",
       "    <tr>\n",
       "      <th>8</th>\n",
       "      <td>0.594373</td>\n",
       "      <td>0.122516</td>\n",
       "      <td>0.697170</td>\n",
       "      <td>0.508097</td>\n",
       "    </tr>\n",
       "    <tr>\n",
       "      <th>9</th>\n",
       "      <td>0.755233</td>\n",
       "      <td>0.249606</td>\n",
       "      <td>0.225544</td>\n",
       "      <td>0.478347</td>\n",
       "    </tr>\n",
       "  </tbody>\n",
       "</table>\n",
       "</div>"
      ],
      "text/plain": [
       "          A         B         C         D\n",
       "0  0.431342  0.839705  0.190764  0.577095\n",
       "1  0.178177  0.143467  0.533088  0.852694\n",
       "2  0.602483  0.793455  0.029708  0.896726\n",
       "3  0.116848  0.118492  0.293472  0.739582\n",
       "4  0.334276  0.638571  0.030365  0.573690\n",
       "5  0.116508  0.342601  0.137179  0.041785\n",
       "6  0.281401  0.000517  0.029195  0.733208\n",
       "7  0.634052  0.283055  0.679461  0.663663\n",
       "8  0.594373  0.122516  0.697170  0.508097\n",
       "9  0.755233  0.249606  0.225544  0.478347"
      ]
     },
     "execution_count": 45,
     "metadata": {},
     "output_type": "execute_result"
    }
   ],
   "source": [
    "# for sorting the index (the column or the row number)\n",
    "df.sort_index(axis=0, ascending=False)"
   ]
  },
  {
   "cell_type": "code",
   "execution_count": 47,
   "metadata": {},
   "outputs": [
    {
     "data": {
      "text/html": [
       "<div>\n",
       "<style scoped>\n",
       "    .dataframe tbody tr th:only-of-type {\n",
       "        vertical-align: middle;\n",
       "    }\n",
       "\n",
       "    .dataframe tbody tr th {\n",
       "        vertical-align: top;\n",
       "    }\n",
       "\n",
       "    .dataframe thead th {\n",
       "        text-align: right;\n",
       "    }\n",
       "</style>\n",
       "<table border=\"1\" class=\"dataframe\">\n",
       "  <thead>\n",
       "    <tr style=\"text-align: right;\">\n",
       "      <th></th>\n",
       "      <th>A</th>\n",
       "      <th>B</th>\n",
       "      <th>C</th>\n",
       "      <th>D</th>\n",
       "    </tr>\n",
       "  </thead>\n",
       "  <tbody>\n",
       "    <tr>\n",
       "      <th>5</th>\n",
       "      <td>0.116508</td>\n",
       "      <td>0.342601</td>\n",
       "      <td>0.137179</td>\n",
       "      <td>0.041785</td>\n",
       "    </tr>\n",
       "    <tr>\n",
       "      <th>3</th>\n",
       "      <td>0.116848</td>\n",
       "      <td>0.118492</td>\n",
       "      <td>0.293472</td>\n",
       "      <td>0.739582</td>\n",
       "    </tr>\n",
       "    <tr>\n",
       "      <th>1</th>\n",
       "      <td>0.178177</td>\n",
       "      <td>0.143467</td>\n",
       "      <td>0.533088</td>\n",
       "      <td>0.852694</td>\n",
       "    </tr>\n",
       "    <tr>\n",
       "      <th>6</th>\n",
       "      <td>0.281401</td>\n",
       "      <td>0.000517</td>\n",
       "      <td>0.029195</td>\n",
       "      <td>0.733208</td>\n",
       "    </tr>\n",
       "    <tr>\n",
       "      <th>4</th>\n",
       "      <td>0.334276</td>\n",
       "      <td>0.638571</td>\n",
       "      <td>0.030365</td>\n",
       "      <td>0.573690</td>\n",
       "    </tr>\n",
       "    <tr>\n",
       "      <th>0</th>\n",
       "      <td>0.431342</td>\n",
       "      <td>0.839705</td>\n",
       "      <td>0.190764</td>\n",
       "      <td>0.577095</td>\n",
       "    </tr>\n",
       "    <tr>\n",
       "      <th>8</th>\n",
       "      <td>0.594373</td>\n",
       "      <td>0.122516</td>\n",
       "      <td>0.697170</td>\n",
       "      <td>0.508097</td>\n",
       "    </tr>\n",
       "    <tr>\n",
       "      <th>2</th>\n",
       "      <td>0.602483</td>\n",
       "      <td>0.793455</td>\n",
       "      <td>0.029708</td>\n",
       "      <td>0.896726</td>\n",
       "    </tr>\n",
       "    <tr>\n",
       "      <th>7</th>\n",
       "      <td>0.634052</td>\n",
       "      <td>0.283055</td>\n",
       "      <td>0.679461</td>\n",
       "      <td>0.663663</td>\n",
       "    </tr>\n",
       "    <tr>\n",
       "      <th>9</th>\n",
       "      <td>0.755233</td>\n",
       "      <td>0.249606</td>\n",
       "      <td>0.225544</td>\n",
       "      <td>0.478347</td>\n",
       "    </tr>\n",
       "  </tbody>\n",
       "</table>\n",
       "</div>"
      ],
      "text/plain": [
       "          A         B         C         D\n",
       "5  0.116508  0.342601  0.137179  0.041785\n",
       "3  0.116848  0.118492  0.293472  0.739582\n",
       "1  0.178177  0.143467  0.533088  0.852694\n",
       "6  0.281401  0.000517  0.029195  0.733208\n",
       "4  0.334276  0.638571  0.030365  0.573690\n",
       "0  0.431342  0.839705  0.190764  0.577095\n",
       "8  0.594373  0.122516  0.697170  0.508097\n",
       "2  0.602483  0.793455  0.029708  0.896726\n",
       "7  0.634052  0.283055  0.679461  0.663663\n",
       "9  0.755233  0.249606  0.225544  0.478347"
      ]
     },
     "execution_count": 47,
     "metadata": {},
     "output_type": "execute_result"
    }
   ],
   "source": [
    "#for sorting by a column (e.g. a, b, c, d)\n",
    "df.sort_values(by='A')"
   ]
  },
  {
   "cell_type": "code",
   "execution_count": 50,
   "metadata": {},
   "outputs": [
    {
     "data": {
      "text/plain": [
       "0    0.431342\n",
       "1    0.178177\n",
       "2    0.602483\n",
       "3    0.116848\n",
       "4    0.334276\n",
       "5    0.116508\n",
       "6    0.281401\n",
       "7    0.634052\n",
       "8    0.594373\n",
       "9    0.755233\n",
       "Name: A, dtype: float64"
      ]
     },
     "execution_count": 50,
     "metadata": {},
     "output_type": "execute_result"
    }
   ],
   "source": [
    "# selecting columns\n",
    "df['A']"
   ]
  },
  {
   "cell_type": "code",
   "execution_count": 52,
   "metadata": {},
   "outputs": [
    {
     "data": {
      "text/html": [
       "<div>\n",
       "<style scoped>\n",
       "    .dataframe tbody tr th:only-of-type {\n",
       "        vertical-align: middle;\n",
       "    }\n",
       "\n",
       "    .dataframe tbody tr th {\n",
       "        vertical-align: top;\n",
       "    }\n",
       "\n",
       "    .dataframe thead th {\n",
       "        text-align: right;\n",
       "    }\n",
       "</style>\n",
       "<table border=\"1\" class=\"dataframe\">\n",
       "  <thead>\n",
       "    <tr style=\"text-align: right;\">\n",
       "      <th></th>\n",
       "      <th>A</th>\n",
       "      <th>B</th>\n",
       "      <th>C</th>\n",
       "      <th>D</th>\n",
       "    </tr>\n",
       "  </thead>\n",
       "  <tbody>\n",
       "    <tr>\n",
       "      <th>0</th>\n",
       "      <td>0.431342</td>\n",
       "      <td>0.839705</td>\n",
       "      <td>0.190764</td>\n",
       "      <td>0.577095</td>\n",
       "    </tr>\n",
       "    <tr>\n",
       "      <th>1</th>\n",
       "      <td>0.178177</td>\n",
       "      <td>0.143467</td>\n",
       "      <td>0.533088</td>\n",
       "      <td>0.852694</td>\n",
       "    </tr>\n",
       "  </tbody>\n",
       "</table>\n",
       "</div>"
      ],
      "text/plain": [
       "          A         B         C         D\n",
       "0  0.431342  0.839705  0.190764  0.577095\n",
       "1  0.178177  0.143467  0.533088  0.852694"
      ]
     },
     "execution_count": 52,
     "metadata": {},
     "output_type": "execute_result"
    }
   ],
   "source": [
    "#selecting range of rows\n",
    "df[0:2]"
   ]
  },
  {
   "cell_type": "code",
   "execution_count": 65,
   "metadata": {},
   "outputs": [
    {
     "data": {
      "text/plain": [
       "A    0.431342\n",
       "B    0.839705\n",
       "C    0.190764\n",
       "D    0.577095\n",
       "Name: 0, dtype: float64"
      ]
     },
     "execution_count": 65,
     "metadata": {},
     "output_type": "execute_result"
    }
   ],
   "source": [
    "#selecting a particular row\n",
    "df.loc[0]"
   ]
  },
  {
   "cell_type": "code",
   "execution_count": 66,
   "metadata": {},
   "outputs": [
    {
     "data": {
      "text/plain": [
       "A    0.431342\n",
       "B    0.839705\n",
       "C    0.190764\n",
       "D    0.577095\n",
       "Name: 0, dtype: float64"
      ]
     },
     "execution_count": 66,
     "metadata": {},
     "output_type": "execute_result"
    }
   ],
   "source": [
    "\n",
    "#selecting by position \n",
    "df.iloc[0]"
   ]
  },
  {
   "cell_type": "code",
   "execution_count": 56,
   "metadata": {},
   "outputs": [
    {
     "data": {
      "text/plain": [
       "A    0.431342\n",
       "Name: 0, dtype: float64"
      ]
     },
     "execution_count": 56,
     "metadata": {},
     "output_type": "execute_result"
    }
   ],
   "source": [
    "#selecting a row and column\n",
    "df.loc[0,['A']]"
   ]
  },
  {
   "cell_type": "code",
   "execution_count": 61,
   "metadata": {},
   "outputs": [
    {
     "data": {
      "text/html": [
       "<div>\n",
       "<style scoped>\n",
       "    .dataframe tbody tr th:only-of-type {\n",
       "        vertical-align: middle;\n",
       "    }\n",
       "\n",
       "    .dataframe tbody tr th {\n",
       "        vertical-align: top;\n",
       "    }\n",
       "\n",
       "    .dataframe thead th {\n",
       "        text-align: right;\n",
       "    }\n",
       "</style>\n",
       "<table border=\"1\" class=\"dataframe\">\n",
       "  <thead>\n",
       "    <tr style=\"text-align: right;\">\n",
       "      <th></th>\n",
       "      <th>A</th>\n",
       "    </tr>\n",
       "  </thead>\n",
       "  <tbody>\n",
       "    <tr>\n",
       "      <th>1</th>\n",
       "      <td>0.178177</td>\n",
       "    </tr>\n",
       "    <tr>\n",
       "      <th>2</th>\n",
       "      <td>0.602483</td>\n",
       "    </tr>\n",
       "    <tr>\n",
       "      <th>3</th>\n",
       "      <td>0.116848</td>\n",
       "    </tr>\n",
       "    <tr>\n",
       "      <th>4</th>\n",
       "      <td>0.334276</td>\n",
       "    </tr>\n",
       "  </tbody>\n",
       "</table>\n",
       "</div>"
      ],
      "text/plain": [
       "          A\n",
       "1  0.178177\n",
       "2  0.602483\n",
       "3  0.116848\n",
       "4  0.334276"
      ]
     },
     "execution_count": 61,
     "metadata": {},
     "output_type": "execute_result"
    }
   ],
   "source": [
    "df.loc[1:4,['A']]"
   ]
  },
  {
   "cell_type": "code",
   "execution_count": 64,
   "metadata": {},
   "outputs": [
    {
     "data": {
      "text/plain": [
       "0.178176998356685"
      ]
     },
     "execution_count": 64,
     "metadata": {},
     "output_type": "execute_result"
    }
   ],
   "source": [
    "#using at instead for faster access , can't be used for a range\n",
    "df.at[1,'A']"
   ]
  },
  {
   "cell_type": "code",
   "execution_count": 70,
   "metadata": {},
   "outputs": [
    {
     "data": {
      "text/html": [
       "<div>\n",
       "<style scoped>\n",
       "    .dataframe tbody tr th:only-of-type {\n",
       "        vertical-align: middle;\n",
       "    }\n",
       "\n",
       "    .dataframe tbody tr th {\n",
       "        vertical-align: top;\n",
       "    }\n",
       "\n",
       "    .dataframe thead th {\n",
       "        text-align: right;\n",
       "    }\n",
       "</style>\n",
       "<table border=\"1\" class=\"dataframe\">\n",
       "  <thead>\n",
       "    <tr style=\"text-align: right;\">\n",
       "      <th></th>\n",
       "      <th>A</th>\n",
       "      <th>B</th>\n",
       "      <th>C</th>\n",
       "      <th>D</th>\n",
       "    </tr>\n",
       "  </thead>\n",
       "  <tbody>\n",
       "    <tr>\n",
       "      <th>0</th>\n",
       "      <td>0.431342</td>\n",
       "      <td>0.839705</td>\n",
       "      <td>0.190764</td>\n",
       "      <td>0.577095</td>\n",
       "    </tr>\n",
       "    <tr>\n",
       "      <th>2</th>\n",
       "      <td>0.602483</td>\n",
       "      <td>0.793455</td>\n",
       "      <td>0.029708</td>\n",
       "      <td>0.896726</td>\n",
       "    </tr>\n",
       "    <tr>\n",
       "      <th>7</th>\n",
       "      <td>0.634052</td>\n",
       "      <td>0.283055</td>\n",
       "      <td>0.679461</td>\n",
       "      <td>0.663663</td>\n",
       "    </tr>\n",
       "    <tr>\n",
       "      <th>8</th>\n",
       "      <td>0.594373</td>\n",
       "      <td>0.122516</td>\n",
       "      <td>0.697170</td>\n",
       "      <td>0.508097</td>\n",
       "    </tr>\n",
       "    <tr>\n",
       "      <th>9</th>\n",
       "      <td>0.755233</td>\n",
       "      <td>0.249606</td>\n",
       "      <td>0.225544</td>\n",
       "      <td>0.478347</td>\n",
       "    </tr>\n",
       "  </tbody>\n",
       "</table>\n",
       "</div>"
      ],
      "text/plain": [
       "          A         B         C         D\n",
       "0  0.431342  0.839705  0.190764  0.577095\n",
       "2  0.602483  0.793455  0.029708  0.896726\n",
       "7  0.634052  0.283055  0.679461  0.663663\n",
       "8  0.594373  0.122516  0.697170  0.508097\n",
       "9  0.755233  0.249606  0.225544  0.478347"
      ]
     },
     "execution_count": 70,
     "metadata": {},
     "output_type": "execute_result"
    }
   ],
   "source": [
    "#selecting by condition \n",
    "df[df.A>0.4]"
   ]
  },
  {
   "cell_type": "code",
   "execution_count": 73,
   "metadata": {},
   "outputs": [
    {
     "name": "stdout",
     "output_type": "stream",
     "text": [
      "          A         B         C         D\n",
      "0  0.431342       NaN  0.190764       NaN\n",
      "1  0.178177  0.143467       NaN       NaN\n",
      "2       NaN       NaN  0.029708       NaN\n",
      "3  0.116848  0.118492  0.293472       NaN\n",
      "4  0.334276       NaN  0.030365       NaN\n",
      "5  0.116508  0.342601  0.137179  0.041785\n",
      "6  0.281401  0.000517  0.029195       NaN\n",
      "7       NaN  0.283055       NaN       NaN\n",
      "8       NaN  0.122516       NaN       NaN\n",
      "9       NaN  0.249606  0.225544  0.478347\n"
     ]
    }
   ],
   "source": [
    "df2=df[df<.5]\n",
    "print(df2)"
   ]
  },
  {
   "cell_type": "code",
   "execution_count": 75,
   "metadata": {},
   "outputs": [
    {
     "data": {
      "text/html": [
       "<div>\n",
       "<style scoped>\n",
       "    .dataframe tbody tr th:only-of-type {\n",
       "        vertical-align: middle;\n",
       "    }\n",
       "\n",
       "    .dataframe tbody tr th {\n",
       "        vertical-align: top;\n",
       "    }\n",
       "\n",
       "    .dataframe thead th {\n",
       "        text-align: right;\n",
       "    }\n",
       "</style>\n",
       "<table border=\"1\" class=\"dataframe\">\n",
       "  <thead>\n",
       "    <tr style=\"text-align: right;\">\n",
       "      <th></th>\n",
       "      <th>A</th>\n",
       "      <th>B</th>\n",
       "      <th>C</th>\n",
       "      <th>D</th>\n",
       "    </tr>\n",
       "  </thead>\n",
       "  <tbody>\n",
       "    <tr>\n",
       "      <th>5</th>\n",
       "      <td>0.116508</td>\n",
       "      <td>0.342601</td>\n",
       "      <td>0.137179</td>\n",
       "      <td>0.041785</td>\n",
       "    </tr>\n",
       "  </tbody>\n",
       "</table>\n",
       "</div>"
      ],
      "text/plain": [
       "          A         B         C         D\n",
       "5  0.116508  0.342601  0.137179  0.041785"
      ]
     },
     "execution_count": 75,
     "metadata": {},
     "output_type": "execute_result"
    }
   ],
   "source": [
    "#drop all rows which have NaN\n",
    "df2.dropna()"
   ]
  },
  {
   "cell_type": "code",
   "execution_count": 77,
   "metadata": {},
   "outputs": [
    {
     "data": {
      "text/html": [
       "<div>\n",
       "<style scoped>\n",
       "    .dataframe tbody tr th:only-of-type {\n",
       "        vertical-align: middle;\n",
       "    }\n",
       "\n",
       "    .dataframe tbody tr th {\n",
       "        vertical-align: top;\n",
       "    }\n",
       "\n",
       "    .dataframe thead th {\n",
       "        text-align: right;\n",
       "    }\n",
       "</style>\n",
       "<table border=\"1\" class=\"dataframe\">\n",
       "  <thead>\n",
       "    <tr style=\"text-align: right;\">\n",
       "      <th></th>\n",
       "      <th>A</th>\n",
       "      <th>B</th>\n",
       "      <th>C</th>\n",
       "      <th>D</th>\n",
       "    </tr>\n",
       "  </thead>\n",
       "  <tbody>\n",
       "    <tr>\n",
       "      <th>0</th>\n",
       "      <td>0.431342</td>\n",
       "      <td>1.000000</td>\n",
       "      <td>0.190764</td>\n",
       "      <td>1.000000</td>\n",
       "    </tr>\n",
       "    <tr>\n",
       "      <th>1</th>\n",
       "      <td>0.178177</td>\n",
       "      <td>0.143467</td>\n",
       "      <td>1.000000</td>\n",
       "      <td>1.000000</td>\n",
       "    </tr>\n",
       "    <tr>\n",
       "      <th>2</th>\n",
       "      <td>1.000000</td>\n",
       "      <td>1.000000</td>\n",
       "      <td>0.029708</td>\n",
       "      <td>1.000000</td>\n",
       "    </tr>\n",
       "    <tr>\n",
       "      <th>3</th>\n",
       "      <td>0.116848</td>\n",
       "      <td>0.118492</td>\n",
       "      <td>0.293472</td>\n",
       "      <td>1.000000</td>\n",
       "    </tr>\n",
       "    <tr>\n",
       "      <th>4</th>\n",
       "      <td>0.334276</td>\n",
       "      <td>1.000000</td>\n",
       "      <td>0.030365</td>\n",
       "      <td>1.000000</td>\n",
       "    </tr>\n",
       "    <tr>\n",
       "      <th>5</th>\n",
       "      <td>0.116508</td>\n",
       "      <td>0.342601</td>\n",
       "      <td>0.137179</td>\n",
       "      <td>0.041785</td>\n",
       "    </tr>\n",
       "    <tr>\n",
       "      <th>6</th>\n",
       "      <td>0.281401</td>\n",
       "      <td>0.000517</td>\n",
       "      <td>0.029195</td>\n",
       "      <td>1.000000</td>\n",
       "    </tr>\n",
       "    <tr>\n",
       "      <th>7</th>\n",
       "      <td>1.000000</td>\n",
       "      <td>0.283055</td>\n",
       "      <td>1.000000</td>\n",
       "      <td>1.000000</td>\n",
       "    </tr>\n",
       "    <tr>\n",
       "      <th>8</th>\n",
       "      <td>1.000000</td>\n",
       "      <td>0.122516</td>\n",
       "      <td>1.000000</td>\n",
       "      <td>1.000000</td>\n",
       "    </tr>\n",
       "    <tr>\n",
       "      <th>9</th>\n",
       "      <td>1.000000</td>\n",
       "      <td>0.249606</td>\n",
       "      <td>0.225544</td>\n",
       "      <td>0.478347</td>\n",
       "    </tr>\n",
       "  </tbody>\n",
       "</table>\n",
       "</div>"
      ],
      "text/plain": [
       "          A         B         C         D\n",
       "0  0.431342  1.000000  0.190764  1.000000\n",
       "1  0.178177  0.143467  1.000000  1.000000\n",
       "2  1.000000  1.000000  0.029708  1.000000\n",
       "3  0.116848  0.118492  0.293472  1.000000\n",
       "4  0.334276  1.000000  0.030365  1.000000\n",
       "5  0.116508  0.342601  0.137179  0.041785\n",
       "6  0.281401  0.000517  0.029195  1.000000\n",
       "7  1.000000  0.283055  1.000000  1.000000\n",
       "8  1.000000  0.122516  1.000000  1.000000\n",
       "9  1.000000  0.249606  0.225544  0.478347"
      ]
     },
     "execution_count": 77,
     "metadata": {},
     "output_type": "execute_result"
    }
   ],
   "source": [
    "#replace NaN with other values\n",
    "df2.fillna(value=1)"
   ]
  },
  {
   "cell_type": "code",
   "execution_count": 79,
   "metadata": {},
   "outputs": [
    {
     "data": {
      "text/plain": [
       "A    0.404469\n",
       "B    0.353198\n",
       "C    0.284594\n",
       "D    0.606489\n",
       "dtype: float64"
      ]
     },
     "execution_count": 79,
     "metadata": {},
     "output_type": "execute_result"
    }
   ],
   "source": [
    "# taking mean\n",
    "df.mean()"
   ]
  },
  {
   "cell_type": "code",
   "execution_count": 80,
   "metadata": {},
   "outputs": [
    {
     "data": {
      "text/plain": [
       "0    0.509726\n",
       "1    0.426857\n",
       "2    0.580593\n",
       "3    0.317098\n",
       "4    0.394226\n",
       "5    0.159518\n",
       "6    0.261080\n",
       "7    0.565058\n",
       "8    0.480539\n",
       "9    0.427183\n",
       "dtype: float64"
      ]
     },
     "execution_count": 80,
     "metadata": {},
     "output_type": "execute_result"
    }
   ],
   "source": [
    "# mean in other axis\n",
    "df.mean(1)"
   ]
  },
  {
   "cell_type": "code",
   "execution_count": null,
   "metadata": {},
   "outputs": [],
   "source": []
  }
 ],
 "metadata": {
  "kernelspec": {
   "display_name": "Python 3",
   "language": "python",
   "name": "python3"
  },
  "language_info": {
   "codemirror_mode": {
    "name": "ipython",
    "version": 3
   },
   "file_extension": ".py",
   "mimetype": "text/x-python",
   "name": "python",
   "nbconvert_exporter": "python",
   "pygments_lexer": "ipython3",
   "version": "3.8.3"
  }
 },
 "nbformat": 4,
 "nbformat_minor": 4
}
