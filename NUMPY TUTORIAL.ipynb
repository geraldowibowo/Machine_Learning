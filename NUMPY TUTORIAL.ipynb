{
 "cells": [
  {
   "cell_type": "code",
   "execution_count": 2,
   "metadata": {},
   "outputs": [],
   "source": [
    "import numpy as np"
   ]
  },
  {
   "cell_type": "code",
   "execution_count": 8,
   "metadata": {},
   "outputs": [
    {
     "name": "stdout",
     "output_type": "stream",
     "text": [
      "[ 1.   2.3 52.5 34. ]\n"
     ]
    }
   ],
   "source": [
    "x = [1, 2.3, 52.5, 34]\n",
    "\n",
    "a=np.array(x)\n",
    "print(a)"
   ]
  },
  {
   "cell_type": "code",
   "execution_count": 11,
   "metadata": {},
   "outputs": [
    {
     "name": "stdout",
     "output_type": "stream",
     "text": [
      "[-9.  -7.7 42.5 24. ]\n"
     ]
    }
   ],
   "source": [
    "print(a-10)"
   ]
  },
  {
   "cell_type": "code",
   "execution_count": 15,
   "metadata": {},
   "outputs": [
    {
     "name": "stdout",
     "output_type": "stream",
     "text": [
      "[ 2  4  6  8 10 12 14 16 18]\n"
     ]
    }
   ],
   "source": [
    "y=np.arange(2,20,2)\n",
    "print(y)"
   ]
  },
  {
   "cell_type": "code",
   "execution_count": 28,
   "metadata": {},
   "outputs": [
    {
     "name": "stdout",
     "output_type": "stream",
     "text": [
      "[ 0.  1.  2.  3.  4.  5.  6.  7.  8.  9. 10.]\n",
      "[0.1  0.25 0.4  0.55 0.7  0.85 1.   1.15]\n"
     ]
    }
   ],
   "source": [
    "z=np.arange(10.100)\n",
    "w=np.arange(0.1,1.2,0.15)\n",
    "print(z)\n",
    "print(w)"
   ]
  },
  {
   "cell_type": "code",
   "execution_count": 38,
   "metadata": {},
   "outputs": [
    {
     "name": "stdout",
     "output_type": "stream",
     "text": [
      "[1 2 3 4]\n",
      "1\n",
      "\n",
      "\n",
      "[[1 1]\n",
      " [2 2]]\n",
      "2\n"
     ]
    },
    {
     "data": {
      "text/plain": [
       "(2, 2)"
      ]
     },
     "execution_count": 38,
     "metadata": {},
     "output_type": "execute_result"
    }
   ],
   "source": [
    "# Numpy arrays\n",
    "\n",
    "a=np.array([1,2,3,4])\n",
    "b=np.array([[1,1],[2,2]])\n",
    "\n",
    "print(a)\n",
    "print (a.ndim)\n",
    "print(\"\\n\")\n",
    "\n",
    "print(b)\n",
    "print (b.ndim)\n",
    "\n",
    "np.shape(a)\n",
    "np.shape(b)"
   ]
  },
  {
   "cell_type": "code",
   "execution_count": 43,
   "metadata": {},
   "outputs": [
    {
     "name": "stdout",
     "output_type": "stream",
     "text": [
      "[1 1]\n",
      "1\n"
     ]
    }
   ],
   "source": [
    "#indexing\n",
    "\n",
    "print(b[0])\n",
    "\n",
    "print(b[0,0])"
   ]
  },
  {
   "cell_type": "code",
   "execution_count": 45,
   "metadata": {},
   "outputs": [
    {
     "name": "stdout",
     "output_type": "stream",
     "text": [
      "[[-1.20764005 -0.28989232  0.58455771 -1.33909266]\n",
      " [-1.04782646  0.40797554  1.05863054  0.72924364]\n",
      " [ 1.18850991  0.06050481  0.66152934  0.56442067]\n",
      " [ 2.7011069   1.75896571  0.44946274  0.55733937]\n",
      " [ 0.38357263  2.15043432 -0.39485808  0.99773164]\n",
      " [-0.08708976  0.49836123 -0.59209813  0.8555454 ]]\n"
     ]
    }
   ],
   "source": [
    "a=np.random.randn(6,4)\n",
    "print(a)"
   ]
  },
  {
   "cell_type": "code",
   "execution_count": null,
   "metadata": {},
   "outputs": [],
   "source": []
  }
 ],
 "metadata": {
  "kernelspec": {
   "display_name": "Python 3",
   "language": "python",
   "name": "python3"
  },
  "language_info": {
   "codemirror_mode": {
    "name": "ipython",
    "version": 3
   },
   "file_extension": ".py",
   "mimetype": "text/x-python",
   "name": "python",
   "nbconvert_exporter": "python",
   "pygments_lexer": "ipython3",
   "version": "3.8.3"
  }
 },
 "nbformat": 4,
 "nbformat_minor": 4
}
