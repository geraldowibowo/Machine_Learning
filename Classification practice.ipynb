{
 "cells": [
  {
   "cell_type": "code",
   "execution_count": 1,
   "metadata": {},
   "outputs": [],
   "source": [
    "from __future__ import absolute_import, division, print_function, unicode_literals\n",
    "\n",
    "\n",
    "import tensorflow as tf\n",
    "\n",
    "import pandas as pd"
   ]
  },
  {
   "cell_type": "code",
   "execution_count": 2,
   "metadata": {},
   "outputs": [],
   "source": [
    "CSV_COLUMN_NAMES = ['SepalLength', 'SepalWidth', 'PetalLength', 'PetalWidth', 'Species']\n",
    "SPECIES = ['Setosa', 'Versicolor', 'Virginica']\n",
    "# Lets define some constants to help us later on"
   ]
  },
  {
   "cell_type": "code",
   "execution_count": 3,
   "metadata": {},
   "outputs": [
    {
     "data": {
      "text/plain": [
       "(120, 4)"
      ]
     },
     "execution_count": 3,
     "metadata": {},
     "output_type": "execute_result"
    }
   ],
   "source": [
    "train_path = tf.keras.utils.get_file(\n",
    "    \"iris_training.csv\", \"https://storage.googleapis.com/download.tensorflow.org/data/iris_training.csv\")\n",
    "test_path = tf.keras.utils.get_file(\n",
    "    \"iris_test.csv\", \"https://storage.googleapis.com/download.tensorflow.org/data/iris_test.csv\")\n",
    "\n",
    "train = pd.read_csv(train_path, names=CSV_COLUMN_NAMES, header=0)\n",
    "test = pd.read_csv(test_path, names=CSV_COLUMN_NAMES, header=0)\n",
    "# Here we use keras (a module inside of TensorFlow) to grab our datasets and read them into a pandas dataframe\n",
    "\n",
    "train_y = train.pop('Species')\n",
    "test_y = test.pop('Species')\n",
    "# the species column is now gone\n",
    "\n",
    "train.shape"
   ]
  },
  {
   "cell_type": "code",
   "execution_count": 4,
   "metadata": {},
   "outputs": [],
   "source": [
    "def input_fn(features, labels, training=True, batch_size=256):\n",
    "    # Convert the inputs to a Dataset.\n",
    "    dataset = tf.data.Dataset.from_tensor_slices((dict(features), labels))\n",
    "\n",
    "    # Shuffle and repeat if you are in training mode.\n",
    "    if training:\n",
    "        dataset = dataset.shuffle(1000).repeat()\n",
    "    \n",
    "    return dataset.batch(batch_size)\n"
   ]
  },
  {
   "cell_type": "code",
   "execution_count": 5,
   "metadata": {},
   "outputs": [
    {
     "name": "stdout",
     "output_type": "stream",
     "text": [
      "[NumericColumn(key='SepalLength', shape=(1,), default_value=None, dtype=tf.float32, normalizer_fn=None), NumericColumn(key='SepalWidth', shape=(1,), default_value=None, dtype=tf.float32, normalizer_fn=None), NumericColumn(key='PetalLength', shape=(1,), default_value=None, dtype=tf.float32, normalizer_fn=None), NumericColumn(key='PetalWidth', shape=(1,), default_value=None, dtype=tf.float32, normalizer_fn=None)]\n"
     ]
    }
   ],
   "source": [
    "# Feature columns describe how to use the input.\n",
    "my_feature_columns = []\n",
    "for key in train.keys():\n",
    "    my_feature_columns.append(tf.feature_column.numeric_column(key=key))\n",
    "print(my_feature_columns)"
   ]
  },
  {
   "cell_type": "code",
   "execution_count": 6,
   "metadata": {},
   "outputs": [
    {
     "name": "stdout",
     "output_type": "stream",
     "text": [
      "INFO:tensorflow:Using default config.\n",
      "WARNING:tensorflow:Using temporary folder as model directory: C:\\Users\\GERALD~1\\AppData\\Local\\Temp\\tmpih6ibu_o\n",
      "INFO:tensorflow:Using config: {'_model_dir': 'C:\\\\Users\\\\GERALD~1\\\\AppData\\\\Local\\\\Temp\\\\tmpih6ibu_o', '_tf_random_seed': None, '_save_summary_steps': 100, '_save_checkpoints_steps': None, '_save_checkpoints_secs': 600, '_session_config': allow_soft_placement: true\n",
      "graph_options {\n",
      "  rewrite_options {\n",
      "    meta_optimizer_iterations: ONE\n",
      "  }\n",
      "}\n",
      ", '_keep_checkpoint_max': 5, '_keep_checkpoint_every_n_hours': 10000, '_log_step_count_steps': 100, '_train_distribute': None, '_device_fn': None, '_protocol': None, '_eval_distribute': None, '_experimental_distribute': None, '_experimental_max_worker_delay_secs': None, '_session_creation_timeout_secs': 7200, '_service': None, '_cluster_spec': ClusterSpec({}), '_task_type': 'worker', '_task_id': 0, '_global_id_in_cluster': 0, '_master': '', '_evaluation_master': '', '_is_chief': True, '_num_ps_replicas': 0, '_num_worker_replicas': 1}\n"
     ]
    }
   ],
   "source": [
    "# Build a DNN with 2 hidden layers with 30 and 10 hidden nodes each.\n",
    "classifier = tf.estimator.DNNClassifier(\n",
    "    feature_columns=my_feature_columns,\n",
    "    # Two hidden layers of 30 and 10 nodes respectively.\n",
    "    hidden_units=[30, 10],\n",
    "    # The model must choose between 3 classes.\n",
    "    n_classes=3)"
   ]
  },
  {
   "cell_type": "code",
   "execution_count": 7,
   "metadata": {},
   "outputs": [
    {
     "name": "stdout",
     "output_type": "stream",
     "text": [
      "WARNING:tensorflow:From C:\\Users\\Geraldo Wibowo\\anaconda3\\lib\\site-packages\\tensorflow\\python\\training\\training_util.py:235: Variable.initialized_value (from tensorflow.python.ops.variables) is deprecated and will be removed in a future version.\n",
      "Instructions for updating:\n",
      "Use Variable.read_value. Variables in 2.X are initialized automatically both in eager and graph (inside tf.defun) contexts.\n",
      "INFO:tensorflow:Calling model_fn.\n",
      "WARNING:tensorflow:Layer dnn is casting an input tensor from dtype float64 to the layer's dtype of float32, which is new behavior in TensorFlow 2.  The layer has dtype float32 because its dtype defaults to floatx.\n",
      "\n",
      "If you intended to run this layer in float32, you can safely ignore this warning. If in doubt, this warning is likely only an issue if you are porting a TensorFlow 1.X model to TensorFlow 2.\n",
      "\n",
      "To change all layers to have dtype float64 by default, call `tf.keras.backend.set_floatx('float64')`. To change just this layer, pass dtype='float64' to the layer constructor. If you are the author of this layer, you can disable autocasting by passing autocast=False to the base Layer constructor.\n",
      "\n",
      "WARNING:tensorflow:From C:\\Users\\Geraldo Wibowo\\anaconda3\\lib\\site-packages\\tensorflow\\python\\keras\\optimizer_v2\\adagrad.py:82: calling Constant.__init__ (from tensorflow.python.ops.init_ops) with dtype is deprecated and will be removed in a future version.\n",
      "Instructions for updating:\n",
      "Call initializer instance with the dtype argument instead of passing it to the constructor\n",
      "INFO:tensorflow:Done calling model_fn.\n",
      "INFO:tensorflow:Create CheckpointSaverHook.\n",
      "INFO:tensorflow:Graph was finalized.\n",
      "INFO:tensorflow:Running local_init_op.\n",
      "INFO:tensorflow:Done running local_init_op.\n",
      "INFO:tensorflow:Calling checkpoint listeners before saving checkpoint 0...\n",
      "INFO:tensorflow:Saving checkpoints for 0 into C:\\Users\\GERALD~1\\AppData\\Local\\Temp\\tmpih6ibu_o\\model.ckpt.\n",
      "INFO:tensorflow:Calling checkpoint listeners after saving checkpoint 0...\n",
      "INFO:tensorflow:loss = 1.3103068, step = 0\n",
      "INFO:tensorflow:global_step/sec: 580.98\n",
      "INFO:tensorflow:loss = 0.83037895, step = 100 (0.173 sec)\n",
      "INFO:tensorflow:global_step/sec: 686.992\n",
      "INFO:tensorflow:loss = 0.74843264, step = 200 (0.147 sec)\n",
      "INFO:tensorflow:global_step/sec: 727.522\n",
      "INFO:tensorflow:loss = 0.70883065, step = 300 (0.136 sec)\n",
      "INFO:tensorflow:global_step/sec: 677.837\n",
      "INFO:tensorflow:loss = 0.67093146, step = 400 (0.149 sec)\n",
      "INFO:tensorflow:global_step/sec: 727.104\n",
      "INFO:tensorflow:loss = 0.64544344, step = 500 (0.139 sec)\n",
      "INFO:tensorflow:global_step/sec: 677.981\n",
      "INFO:tensorflow:loss = 0.6217723, step = 600 (0.146 sec)\n",
      "INFO:tensorflow:global_step/sec: 641.687\n",
      "INFO:tensorflow:loss = 0.5945437, step = 700 (0.156 sec)\n",
      "INFO:tensorflow:global_step/sec: 705.726\n",
      "INFO:tensorflow:loss = 0.5758565, step = 800 (0.143 sec)\n",
      "INFO:tensorflow:global_step/sec: 685.046\n",
      "INFO:tensorflow:loss = 0.5681516, step = 900 (0.146 sec)\n",
      "INFO:tensorflow:global_step/sec: 592.632\n",
      "INFO:tensorflow:loss = 0.54724634, step = 1000 (0.167 sec)\n",
      "INFO:tensorflow:global_step/sec: 617.236\n",
      "INFO:tensorflow:loss = 0.5386124, step = 1100 (0.164 sec)\n",
      "INFO:tensorflow:global_step/sec: 724.837\n",
      "INFO:tensorflow:loss = 0.5322126, step = 1200 (0.137 sec)\n",
      "INFO:tensorflow:global_step/sec: 731.57\n",
      "INFO:tensorflow:loss = 0.52348477, step = 1300 (0.136 sec)\n",
      "INFO:tensorflow:global_step/sec: 730.104\n",
      "INFO:tensorflow:loss = 0.49633422, step = 1400 (0.138 sec)\n",
      "INFO:tensorflow:global_step/sec: 736.42\n",
      "INFO:tensorflow:loss = 0.50722814, step = 1500 (0.136 sec)\n",
      "INFO:tensorflow:global_step/sec: 719.204\n",
      "INFO:tensorflow:loss = 0.50025403, step = 1600 (0.139 sec)\n",
      "INFO:tensorflow:global_step/sec: 726.575\n",
      "INFO:tensorflow:loss = 0.48417243, step = 1700 (0.138 sec)\n",
      "INFO:tensorflow:global_step/sec: 607.453\n",
      "INFO:tensorflow:loss = 0.47629362, step = 1800 (0.165 sec)\n",
      "INFO:tensorflow:global_step/sec: 491.504\n",
      "INFO:tensorflow:loss = 0.48461884, step = 1900 (0.203 sec)\n",
      "INFO:tensorflow:global_step/sec: 651.09\n",
      "INFO:tensorflow:loss = 0.46094945, step = 2000 (0.154 sec)\n",
      "INFO:tensorflow:global_step/sec: 622.663\n",
      "INFO:tensorflow:loss = 0.4584896, step = 2100 (0.161 sec)\n",
      "INFO:tensorflow:global_step/sec: 640.951\n",
      "INFO:tensorflow:loss = 0.433495, step = 2200 (0.157 sec)\n",
      "INFO:tensorflow:global_step/sec: 722.062\n",
      "INFO:tensorflow:loss = 0.45455903, step = 2300 (0.138 sec)\n",
      "INFO:tensorflow:global_step/sec: 630.775\n",
      "INFO:tensorflow:loss = 0.43788096, step = 2400 (0.158 sec)\n",
      "INFO:tensorflow:global_step/sec: 639.604\n",
      "INFO:tensorflow:loss = 0.43699744, step = 2500 (0.156 sec)\n",
      "INFO:tensorflow:global_step/sec: 496.391\n",
      "INFO:tensorflow:loss = 0.43424, step = 2600 (0.201 sec)\n",
      "INFO:tensorflow:global_step/sec: 699.529\n",
      "INFO:tensorflow:loss = 0.43190646, step = 2700 (0.143 sec)\n",
      "INFO:tensorflow:global_step/sec: 655.345\n",
      "INFO:tensorflow:loss = 0.41757002, step = 2800 (0.154 sec)\n",
      "INFO:tensorflow:global_step/sec: 643.532\n",
      "INFO:tensorflow:loss = 0.4026448, step = 2900 (0.155 sec)\n",
      "INFO:tensorflow:global_step/sec: 637.501\n",
      "INFO:tensorflow:loss = 0.4016549, step = 3000 (0.155 sec)\n",
      "INFO:tensorflow:global_step/sec: 604.021\n",
      "INFO:tensorflow:loss = 0.39076066, step = 3100 (0.167 sec)\n",
      "INFO:tensorflow:global_step/sec: 674.456\n",
      "INFO:tensorflow:loss = 0.39222428, step = 3200 (0.148 sec)\n",
      "INFO:tensorflow:global_step/sec: 709.521\n",
      "INFO:tensorflow:loss = 0.39575732, step = 3300 (0.141 sec)\n",
      "INFO:tensorflow:global_step/sec: 685.073\n",
      "INFO:tensorflow:loss = 0.3887323, step = 3400 (0.146 sec)\n",
      "INFO:tensorflow:global_step/sec: 722.338\n",
      "INFO:tensorflow:loss = 0.3777877, step = 3500 (0.138 sec)\n",
      "INFO:tensorflow:global_step/sec: 721.898\n",
      "INFO:tensorflow:loss = 0.3793305, step = 3600 (0.139 sec)\n",
      "INFO:tensorflow:global_step/sec: 674.322\n",
      "INFO:tensorflow:loss = 0.38382882, step = 3700 (0.148 sec)\n",
      "INFO:tensorflow:global_step/sec: 737.128\n",
      "INFO:tensorflow:loss = 0.36650267, step = 3800 (0.136 sec)\n",
      "INFO:tensorflow:global_step/sec: 658.343\n",
      "INFO:tensorflow:loss = 0.36149436, step = 3900 (0.152 sec)\n",
      "INFO:tensorflow:global_step/sec: 727.854\n",
      "INFO:tensorflow:loss = 0.3631926, step = 4000 (0.137 sec)\n",
      "INFO:tensorflow:global_step/sec: 756.383\n",
      "INFO:tensorflow:loss = 0.35428154, step = 4100 (0.132 sec)\n",
      "INFO:tensorflow:global_step/sec: 687.416\n",
      "INFO:tensorflow:loss = 0.3557148, step = 4200 (0.145 sec)\n",
      "INFO:tensorflow:global_step/sec: 607.858\n",
      "INFO:tensorflow:loss = 0.355174, step = 4300 (0.165 sec)\n",
      "INFO:tensorflow:global_step/sec: 692.084\n",
      "INFO:tensorflow:loss = 0.34815615, step = 4400 (0.145 sec)\n",
      "INFO:tensorflow:global_step/sec: 530.692\n",
      "INFO:tensorflow:loss = 0.33644754, step = 4500 (0.188 sec)\n",
      "INFO:tensorflow:global_step/sec: 673.955\n",
      "INFO:tensorflow:loss = 0.34519067, step = 4600 (0.147 sec)\n",
      "INFO:tensorflow:global_step/sec: 731.777\n",
      "INFO:tensorflow:loss = 0.33489513, step = 4700 (0.137 sec)\n",
      "INFO:tensorflow:global_step/sec: 737.216\n",
      "INFO:tensorflow:loss = 0.33580583, step = 4800 (0.137 sec)\n",
      "INFO:tensorflow:global_step/sec: 724.666\n",
      "INFO:tensorflow:loss = 0.3217033, step = 4900 (0.137 sec)\n",
      "INFO:tensorflow:Calling checkpoint listeners before saving checkpoint 5000...\n",
      "INFO:tensorflow:Saving checkpoints for 5000 into C:\\Users\\GERALD~1\\AppData\\Local\\Temp\\tmpih6ibu_o\\model.ckpt.\n",
      "INFO:tensorflow:Calling checkpoint listeners after saving checkpoint 5000...\n",
      "INFO:tensorflow:Loss for final step: 0.32710513.\n"
     ]
    },
    {
     "data": {
      "text/plain": [
       "<tensorflow_estimator.python.estimator.canned.dnn.DNNClassifierV2 at 0x1d75c6a10d0>"
      ]
     },
     "execution_count": 7,
     "metadata": {},
     "output_type": "execute_result"
    }
   ],
   "source": [
    "classifier.train(\n",
    "    input_fn=lambda: input_fn(train, train_y, training=True),\n",
    "    steps=5000)\n",
    "# We include a lambda to avoid creating an inner function previously"
   ]
  },
  {
   "cell_type": "code",
   "execution_count": 8,
   "metadata": {},
   "outputs": [
    {
     "name": "stdout",
     "output_type": "stream",
     "text": [
      "INFO:tensorflow:Calling model_fn.\n",
      "WARNING:tensorflow:Layer dnn is casting an input tensor from dtype float64 to the layer's dtype of float32, which is new behavior in TensorFlow 2.  The layer has dtype float32 because its dtype defaults to floatx.\n",
      "\n",
      "If you intended to run this layer in float32, you can safely ignore this warning. If in doubt, this warning is likely only an issue if you are porting a TensorFlow 1.X model to TensorFlow 2.\n",
      "\n",
      "To change all layers to have dtype float64 by default, call `tf.keras.backend.set_floatx('float64')`. To change just this layer, pass dtype='float64' to the layer constructor. If you are the author of this layer, you can disable autocasting by passing autocast=False to the base Layer constructor.\n",
      "\n",
      "INFO:tensorflow:Done calling model_fn.\n",
      "INFO:tensorflow:Starting evaluation at 2020-10-27T11:24:13Z\n",
      "INFO:tensorflow:Graph was finalized.\n",
      "INFO:tensorflow:Restoring parameters from C:\\Users\\GERALD~1\\AppData\\Local\\Temp\\tmpih6ibu_o\\model.ckpt-5000\n",
      "INFO:tensorflow:Running local_init_op.\n",
      "INFO:tensorflow:Done running local_init_op.\n",
      "INFO:tensorflow:Inference Time : 0.31497s\n",
      "INFO:tensorflow:Finished evaluation at 2020-10-27-11:24:13\n",
      "INFO:tensorflow:Saving dict for global step 5000: accuracy = 0.93333334, average_loss = 0.38724932, global_step = 5000, loss = 0.38724932\n",
      "INFO:tensorflow:Saving 'checkpoint_path' summary for global step 5000: C:\\Users\\GERALD~1\\AppData\\Local\\Temp\\tmpih6ibu_o\\model.ckpt-5000\n",
      "\n",
      "Test set accuracy: 0.933\n",
      "\n"
     ]
    }
   ],
   "source": [
    "eval_result = classifier.evaluate(\n",
    "    input_fn=lambda: input_fn(test, test_y, training=False))\n",
    "\n",
    "print('\\nTest set accuracy: {accuracy:0.3f}\\n'.format(**eval_result))"
   ]
  },
  {
   "cell_type": "code",
   "execution_count": null,
   "metadata": {},
   "outputs": [
    {
     "name": "stdout",
     "output_type": "stream",
     "text": [
      "Please type numeric values as prompted.\n"
     ]
    }
   ],
   "source": [
    "def input_fn(features, batch_size=256):\n",
    "    # Convert the inputs to a Dataset without labels.\n",
    "    return tf.data.Dataset.from_tensor_slices(dict(features)).batch(batch_size)\n",
    "\n",
    "features = ['SepalLength', 'SepalWidth', 'PetalLength', 'PetalWidth']\n",
    "predict = {}\n",
    "\n",
    "print(\"Please type numeric values as prompted.\")\n",
    "for feature in features:\n",
    "  valid = True\n",
    "  while valid: \n",
    "    val = input(feature + \": \")\n",
    "    if not val.isdigit(): valid = False\n",
    "\n",
    "  predict[feature] = [float(val)]\n",
    "\n",
    "predictions = classifier.predict(input_fn=lambda: input_fn(predict))\n",
    "for pred_dict in predictions:\n",
    "    class_id = pred_dict['class_ids'][0]\n",
    "    probability = pred_dict['probabilities'][class_id]\n",
    "\n",
    "    print('Prediction is \"{}\" ({:.1f}%)'.format(\n",
    "        SPECIES[class_id], 100 * probability))\n"
   ]
  }
 ],
 "metadata": {
  "kernelspec": {
   "display_name": "Python 3",
   "language": "python",
   "name": "python3"
  },
  "language_info": {
   "codemirror_mode": {
    "name": "ipython",
    "version": 3
   },
   "file_extension": ".py",
   "mimetype": "text/x-python",
   "name": "python",
   "nbconvert_exporter": "python",
   "pygments_lexer": "ipython3",
   "version": "3.8.3"
  }
 },
 "nbformat": 4,
 "nbformat_minor": 4
}
